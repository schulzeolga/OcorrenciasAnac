{
  "nbformat": 4,
  "nbformat_minor": 0,
  "metadata": {
    "colab": {
      "provenance": [],
      "authorship_tag": "ABX9TyPpl3H9lLjOT5oEQH7e6TEn"
    },
    "kernelspec": {
      "name": "python3",
      "display_name": "Python 3"
    },
    "language_info": {
      "name": "python"
    }
  },
  "cells": [
    {
      "cell_type": "code",
      "execution_count": null,
      "metadata": {
        "id": "oin1x0MZum19"
      },
      "outputs": [],
      "source": [
        "import pandas as pd\n"
      ]
    },
    {
      "cell_type": "markdown",
      "source": [
        "# Análise de Vendas de derivados de petróleo"
      ],
      "metadata": {
        "id": "XjWEBXP_a98u"
      }
    },
    {
      "cell_type": "code",
      "source": [
        "vendasValor = pd.read_csv('/content/vendas-derivados-petroleo-etanol-m3-1990-2022.csv', sep=';', quotechar='\"')\n",
        "vendasValor = vendasValor.query('PRODUTO in [\"GASOLINA DE AVIAÇÃO\",\"QUEROSENE DE AVIAÇÃO\"]')\n",
        "vendasValor = vendasValor.query('ANO >= 2012')\n",
        "vendasValor['VENDAS'] = pd.to_numeric(vendasValor['VENDAS'].str.replace(',','.'), errors='coerce')\n",
        "vendasValor_agg = vendasValor.groupby('ANO')['VENDAS'].sum()\n",
        "vendasValor_agg = round(vendasValor_agg.div(1000000),3)\n",
        "vendasValor_agg\n"
      ],
      "metadata": {
        "colab": {
          "base_uri": "https://localhost:8080/"
        },
        "id": "RZgrhxdOab-b",
        "outputId": "4365baf8-38b6-4c71-a343-b9ad8e6df306"
      },
      "execution_count": null,
      "outputs": [
        {
          "output_type": "execute_result",
          "data": {
            "text/plain": [
              "ANO\n",
              "2012    7.368\n",
              "2013    7.302\n",
              "2014    7.546\n",
              "2015    7.419\n",
              "2016    6.822\n",
              "2017    6.746\n",
              "2018    7.213\n",
              "2019    7.024\n",
              "2020    3.585\n",
              "2021    4.433\n",
              "2022    2.853\n",
              "Name: VENDAS, dtype: float64"
            ]
          },
          "metadata": {},
          "execution_count": 32
        }
      ]
    },
    {
      "cell_type": "markdown",
      "source": [
        "# Análise de ocorrências"
      ],
      "metadata": {
        "id": "IkEk4wbDbEsV"
      }
    },
    {
      "cell_type": "code",
      "source": [
        "from sqlalchemy import create_engine\n",
        "\n",
        "# Create a dataframe\n",
        "ocorrencia = pd.read_csv('/content/ocorrencia.csv', sep=';', quotechar='\"')\n",
        "ocorrencia_tipo = pd.read_csv('/content/ocorrencia_tipo.csv', sep=';', quotechar='\"')\n",
        "\n",
        "# Create a SQLite database and connect to it\n",
        "engine = create_engine('sqlite:///data.db')\n",
        "\n",
        "# Write the dataframe to a table in the database\n",
        "ocorrencia.to_sql('ocorrencia', engine, if_exists='replace')\n",
        "ocorrencia_tipo.to_sql('ocorrencia_tipo', engine, if_exists='replace')"
      ],
      "metadata": {
        "id": "ErPKhJEG0Exn"
      },
      "execution_count": null,
      "outputs": []
    },
    {
      "cell_type": "code",
      "source": [
        "# Execute a the query to extract all ocorrencias\n",
        "query = \"\"\"\n",
        "SELECT COUNT(*) AS 'Quantidade de ocorrências', strftime('%Y', date(substr(ocorrencia.ocorrencia_dia,7,4) || '-' || substr(ocorrencia.ocorrencia_dia,4,2) || '-' || substr(ocorrencia.ocorrencia_dia,1,2))) AS ANO\n",
        "FROM ocorrencia\n",
        "JOIN ocorrencia_tipo\n",
        "ON ocorrencia.codigo_ocorrencia1 = ocorrencia_tipo.codigo_ocorrencia1\n",
        "WHERE ocorrencia_tipo.ocorrencia_tipo = 'FALHA DO MOTOR EM VOO' \n",
        "GROUP BY strftime('%Y', date(substr(ocorrencia.ocorrencia_dia,7,4) || '-' || substr(ocorrencia.ocorrencia_dia,4,2) || '-' || substr(ocorrencia.ocorrencia_dia,1,2)));\n",
        "\"\"\"\n",
        "result = engine.execute(query)\n",
        "\n",
        "# Fetch all rows from the result\n",
        "allOcurrencies = result.fetchall()\n",
        "\n",
        "# Print the rows\n",
        "for row in allOcurrencies:\n",
        "    print(row)"
      ],
      "metadata": {
        "colab": {
          "base_uri": "https://localhost:8080/"
        },
        "id": "vQUVKa5xfkdp",
        "outputId": "c6f4ae0e-45a3-43b7-dda7-0b61da3a3871"
      },
      "execution_count": null,
      "outputs": [
        {
          "output_type": "stream",
          "name": "stdout",
          "text": [
            "(72, '2012')\n",
            "(72, '2013')\n",
            "(74, '2014')\n",
            "(65, '2015')\n",
            "(59, '2016')\n",
            "(45, '2017')\n",
            "(53, '2018')\n",
            "(58, '2019')\n",
            "(87, '2020')\n",
            "(82, '2021')\n",
            "(38, '2022')\n"
          ]
        }
      ]
    },
    {
      "cell_type": "code",
      "source": [
        "# Execute a the query to extract only Acidentes and Incidentes graves\n",
        "query = \"\"\"\n",
        "SELECT COUNT(*) AS 'Quantidade de ocorrências', strftime('%Y', date(substr(ocorrencia.ocorrencia_dia,7,4) || '-' || substr(ocorrencia.ocorrencia_dia,4,2) || '-' || substr(ocorrencia.ocorrencia_dia,1,2))) AS ANO\n",
        "FROM ocorrencia\n",
        "JOIN ocorrencia_tipo\n",
        "ON ocorrencia.codigo_ocorrencia1 = ocorrencia_tipo.codigo_ocorrencia1\n",
        "WHERE ocorrencia_tipo.ocorrencia_tipo = 'FALHA DO MOTOR EM VOO' AND (ocorrencia.ocorrencia_classificacao = 'ACIDENTE' OR ocorrencia.ocorrencia_classificacao = 'INCIDENTE GRAVE')\n",
        "GROUP BY strftime('%Y', date(substr(ocorrencia.ocorrencia_dia,7,4) || '-' || substr(ocorrencia.ocorrencia_dia,4,2) || '-' || substr(ocorrencia.ocorrencia_dia,1,2)));\n",
        "\"\"\"\n",
        "result = engine.execute(query)\n",
        "\n",
        "# Fetch all rows from the result\n",
        "AcidentesIncidentesGraves = result.fetchall()\n",
        "\n",
        "# Print the rows\n",
        "for row in AcidentesIncidentesGraves:\n",
        "    print(row)"
      ],
      "metadata": {
        "colab": {
          "base_uri": "https://localhost:8080/"
        },
        "id": "9P3cqY3DcNky",
        "outputId": "2fc35d33-7240-4498-e6af-5d8d0526a2df"
      },
      "execution_count": null,
      "outputs": [
        {
          "output_type": "stream",
          "name": "stdout",
          "text": [
            "(45, '2012')\n",
            "(50, '2013')\n",
            "(44, '2014')\n",
            "(42, '2015')\n",
            "(43, '2016')\n",
            "(31, '2017')\n",
            "(43, '2018')\n",
            "(35, '2019')\n",
            "(55, '2020')\n",
            "(47, '2021')\n",
            "(27, '2022')\n"
          ]
        }
      ]
    },
    {
      "cell_type": "markdown",
      "source": [
        "# Análise de valores"
      ],
      "metadata": {
        "id": "CqHw6xj4rG5N"
      }
    },
    {
      "cell_type": "code",
      "source": [
        "#Creation of the dataframes\n",
        "df1 = pd.DataFrame(vendasValor_agg)\n",
        "df2 = pd.DataFrame(allOcurrencies)\n",
        "df3 = pd.DataFrame(AcidentesIncidentesGraves)\n",
        "\n"
      ],
      "metadata": {
        "id": "8wlnWybPwKn9"
      },
      "execution_count": null,
      "outputs": []
    },
    {
      "cell_type": "code",
      "source": [
        "df1.index"
      ],
      "metadata": {
        "colab": {
          "base_uri": "https://localhost:8080/"
        },
        "id": "fyvCOHmZ7GEi",
        "outputId": "2b28f9c6-18ef-4042-cef0-b1f11bbc10df"
      },
      "execution_count": null,
      "outputs": [
        {
          "output_type": "execute_result",
          "data": {
            "text/plain": [
              "Int64Index([2012, 2013, 2014, 2015, 2016, 2017, 2018, 2019, 2020, 2021, 2022], dtype='int64', name='ANO')"
            ]
          },
          "metadata": {},
          "execution_count": 37
        }
      ]
    },
    {
      "cell_type": "code",
      "source": [
        "#Adjustments on the column names\n",
        "df2 = df2.rename(columns={1:'ANO',0:'QTD OCORRENCIAS TOTAL'})\n",
        "df2 = df2.set_index('ANO')\n",
        "df2.index = df2.index.astype(int)\n",
        "df3 = df3.rename(columns={1:'ANO',0:'QTD ACIDENTES E INCIDENTES GRAVES'})\n",
        "df3 = df3.set_index('ANO')\n",
        "df3.index = df3.index.astype(int)"
      ],
      "metadata": {
        "id": "0traeljqwOjO"
      },
      "execution_count": null,
      "outputs": []
    },
    {
      "cell_type": "code",
      "source": [
        "merged_df = df1.join(df2)\n",
        "merged_df = merged_df.join(df3)\n",
        "merged_df"
      ],
      "metadata": {
        "colab": {
          "base_uri": "https://localhost:8080/",
          "height": 344
        },
        "id": "NOGrGIn65drH",
        "outputId": "8a84194c-be9a-493c-facd-cbc36d5511d7"
      },
      "execution_count": null,
      "outputs": [
        {
          "output_type": "execute_result",
          "data": {
            "text/plain": [
              "      VENDAS  QTD OCORRENCIAS TOTAL  QTD ACIDENTES E INCIDENTES GRAVES\n",
              "ANO                                                                   \n",
              "2012   7.368                     72                                 45\n",
              "2013   7.302                     72                                 50\n",
              "2014   7.546                     74                                 44\n",
              "2015   7.419                     65                                 42\n",
              "2016   6.822                     59                                 43\n",
              "2017   6.746                     45                                 31\n",
              "2018   7.213                     53                                 43\n",
              "2019   7.024                     58                                 35\n",
              "2020   3.585                     87                                 55\n",
              "2021   4.433                     82                                 47\n",
              "2022   2.853                     38                                 27"
            ],
            "text/html": [
              "\n",
              "  <div id=\"df-37e4670a-8444-467e-9448-22e75dca9bbe\">\n",
              "    <div class=\"colab-df-container\">\n",
              "      <div>\n",
              "<style scoped>\n",
              "    .dataframe tbody tr th:only-of-type {\n",
              "        vertical-align: middle;\n",
              "    }\n",
              "\n",
              "    .dataframe tbody tr th {\n",
              "        vertical-align: top;\n",
              "    }\n",
              "\n",
              "    .dataframe thead th {\n",
              "        text-align: right;\n",
              "    }\n",
              "</style>\n",
              "<table border=\"1\" class=\"dataframe\">\n",
              "  <thead>\n",
              "    <tr style=\"text-align: right;\">\n",
              "      <th></th>\n",
              "      <th>VENDAS</th>\n",
              "      <th>QTD OCORRENCIAS TOTAL</th>\n",
              "      <th>QTD ACIDENTES E INCIDENTES GRAVES</th>\n",
              "    </tr>\n",
              "    <tr>\n",
              "      <th>ANO</th>\n",
              "      <th></th>\n",
              "      <th></th>\n",
              "      <th></th>\n",
              "    </tr>\n",
              "  </thead>\n",
              "  <tbody>\n",
              "    <tr>\n",
              "      <th>2012</th>\n",
              "      <td>7.368</td>\n",
              "      <td>72</td>\n",
              "      <td>45</td>\n",
              "    </tr>\n",
              "    <tr>\n",
              "      <th>2013</th>\n",
              "      <td>7.302</td>\n",
              "      <td>72</td>\n",
              "      <td>50</td>\n",
              "    </tr>\n",
              "    <tr>\n",
              "      <th>2014</th>\n",
              "      <td>7.546</td>\n",
              "      <td>74</td>\n",
              "      <td>44</td>\n",
              "    </tr>\n",
              "    <tr>\n",
              "      <th>2015</th>\n",
              "      <td>7.419</td>\n",
              "      <td>65</td>\n",
              "      <td>42</td>\n",
              "    </tr>\n",
              "    <tr>\n",
              "      <th>2016</th>\n",
              "      <td>6.822</td>\n",
              "      <td>59</td>\n",
              "      <td>43</td>\n",
              "    </tr>\n",
              "    <tr>\n",
              "      <th>2017</th>\n",
              "      <td>6.746</td>\n",
              "      <td>45</td>\n",
              "      <td>31</td>\n",
              "    </tr>\n",
              "    <tr>\n",
              "      <th>2018</th>\n",
              "      <td>7.213</td>\n",
              "      <td>53</td>\n",
              "      <td>43</td>\n",
              "    </tr>\n",
              "    <tr>\n",
              "      <th>2019</th>\n",
              "      <td>7.024</td>\n",
              "      <td>58</td>\n",
              "      <td>35</td>\n",
              "    </tr>\n",
              "    <tr>\n",
              "      <th>2020</th>\n",
              "      <td>3.585</td>\n",
              "      <td>87</td>\n",
              "      <td>55</td>\n",
              "    </tr>\n",
              "    <tr>\n",
              "      <th>2021</th>\n",
              "      <td>4.433</td>\n",
              "      <td>82</td>\n",
              "      <td>47</td>\n",
              "    </tr>\n",
              "    <tr>\n",
              "      <th>2022</th>\n",
              "      <td>2.853</td>\n",
              "      <td>38</td>\n",
              "      <td>27</td>\n",
              "    </tr>\n",
              "  </tbody>\n",
              "</table>\n",
              "</div>\n",
              "      <button class=\"colab-df-convert\" onclick=\"convertToInteractive('df-37e4670a-8444-467e-9448-22e75dca9bbe')\"\n",
              "              title=\"Convert this dataframe to an interactive table.\"\n",
              "              style=\"display:none;\">\n",
              "        \n",
              "  <svg xmlns=\"http://www.w3.org/2000/svg\" height=\"24px\"viewBox=\"0 0 24 24\"\n",
              "       width=\"24px\">\n",
              "    <path d=\"M0 0h24v24H0V0z\" fill=\"none\"/>\n",
              "    <path d=\"M18.56 5.44l.94 2.06.94-2.06 2.06-.94-2.06-.94-.94-2.06-.94 2.06-2.06.94zm-11 1L8.5 8.5l.94-2.06 2.06-.94-2.06-.94L8.5 2.5l-.94 2.06-2.06.94zm10 10l.94 2.06.94-2.06 2.06-.94-2.06-.94-.94-2.06-.94 2.06-2.06.94z\"/><path d=\"M17.41 7.96l-1.37-1.37c-.4-.4-.92-.59-1.43-.59-.52 0-1.04.2-1.43.59L10.3 9.45l-7.72 7.72c-.78.78-.78 2.05 0 2.83L4 21.41c.39.39.9.59 1.41.59.51 0 1.02-.2 1.41-.59l7.78-7.78 2.81-2.81c.8-.78.8-2.07 0-2.86zM5.41 20L4 18.59l7.72-7.72 1.47 1.35L5.41 20z\"/>\n",
              "  </svg>\n",
              "      </button>\n",
              "      \n",
              "  <style>\n",
              "    .colab-df-container {\n",
              "      display:flex;\n",
              "      flex-wrap:wrap;\n",
              "      gap: 12px;\n",
              "    }\n",
              "\n",
              "    .colab-df-convert {\n",
              "      background-color: #E8F0FE;\n",
              "      border: none;\n",
              "      border-radius: 50%;\n",
              "      cursor: pointer;\n",
              "      display: none;\n",
              "      fill: #1967D2;\n",
              "      height: 32px;\n",
              "      padding: 0 0 0 0;\n",
              "      width: 32px;\n",
              "    }\n",
              "\n",
              "    .colab-df-convert:hover {\n",
              "      background-color: #E2EBFA;\n",
              "      box-shadow: 0px 1px 2px rgba(60, 64, 67, 0.3), 0px 1px 3px 1px rgba(60, 64, 67, 0.15);\n",
              "      fill: #174EA6;\n",
              "    }\n",
              "\n",
              "    [theme=dark] .colab-df-convert {\n",
              "      background-color: #3B4455;\n",
              "      fill: #D2E3FC;\n",
              "    }\n",
              "\n",
              "    [theme=dark] .colab-df-convert:hover {\n",
              "      background-color: #434B5C;\n",
              "      box-shadow: 0px 1px 3px 1px rgba(0, 0, 0, 0.15);\n",
              "      filter: drop-shadow(0px 1px 2px rgba(0, 0, 0, 0.3));\n",
              "      fill: #FFFFFF;\n",
              "    }\n",
              "  </style>\n",
              "\n",
              "      <script>\n",
              "        const buttonEl =\n",
              "          document.querySelector('#df-37e4670a-8444-467e-9448-22e75dca9bbe button.colab-df-convert');\n",
              "        buttonEl.style.display =\n",
              "          google.colab.kernel.accessAllowed ? 'block' : 'none';\n",
              "\n",
              "        async function convertToInteractive(key) {\n",
              "          const element = document.querySelector('#df-37e4670a-8444-467e-9448-22e75dca9bbe');\n",
              "          const dataTable =\n",
              "            await google.colab.kernel.invokeFunction('convertToInteractive',\n",
              "                                                     [key], {});\n",
              "          if (!dataTable) return;\n",
              "\n",
              "          const docLinkHtml = 'Like what you see? Visit the ' +\n",
              "            '<a target=\"_blank\" href=https://colab.research.google.com/notebooks/data_table.ipynb>data table notebook</a>'\n",
              "            + ' to learn more about interactive tables.';\n",
              "          element.innerHTML = '';\n",
              "          dataTable['output_type'] = 'display_data';\n",
              "          await google.colab.output.renderOutput(dataTable, element);\n",
              "          const docLink = document.createElement('div');\n",
              "          docLink.innerHTML = docLinkHtml;\n",
              "          element.appendChild(docLink);\n",
              "        }\n",
              "      </script>\n",
              "    </div>\n",
              "  </div>\n",
              "  "
            ]
          },
          "metadata": {},
          "execution_count": 39
        }
      ]
    },
    {
      "cell_type": "code",
      "source": [
        "#Calcula o valor da meta para o motivo FALHA DO MOTOR EM VOO\n",
        "meta_filter =  merged_df.index <= 2016\n",
        "meta_df = merged_df[meta_filter]\n",
        "value_meta = meta_df['QTD ACIDENTES E INCIDENTES GRAVES'] / meta_df['VENDAS']\n",
        "meta = round(value_meta.mean(),3)\n",
        "meta"
      ],
      "metadata": {
        "colab": {
          "base_uri": "https://localhost:8080/"
        },
        "id": "nhML3ljm0EVm",
        "outputId": "311c20ca-db0d-4efb-9f82-4ada2503519c"
      },
      "execution_count": null,
      "outputs": [
        {
          "output_type": "execute_result",
          "data": {
            "text/plain": [
              "6.15"
            ]
          },
          "metadata": {},
          "execution_count": 42
        }
      ]
    },
    {
      "cell_type": "code",
      "source": [
        "#Calcula o valor real para o motivo FALHA DO MOTOR EM VOO\n",
        "real_values = (merged_df.index <= 2021) & (merged_df.index > 2016)\n",
        "real_values_df = merged_df[real_values]\n",
        "value_2021_df = real_values_df['QTD ACIDENTES E INCIDENTES GRAVES'] / real_values_df['VENDAS']\n",
        "value_2021 = round(value_2021_df.mean(),3)\n",
        "value_2021"
      ],
      "metadata": {
        "colab": {
          "base_uri": "https://localhost:8080/"
        },
        "id": "RvKLc2fN26PP",
        "outputId": "edcdd2eb-00a8-4e85-f501-1e2191d36e16"
      },
      "execution_count": null,
      "outputs": [
        {
          "output_type": "execute_result",
          "data": {
            "text/plain": [
              "8.297"
            ]
          },
          "metadata": {},
          "execution_count": 43
        }
      ]
    }
  ]
}