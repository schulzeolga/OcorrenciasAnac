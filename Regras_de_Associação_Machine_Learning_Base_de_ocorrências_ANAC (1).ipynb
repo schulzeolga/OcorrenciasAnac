{
 "cells": [
  {
   "cell_type": "code",
   "execution_count": 3,
   "metadata": {
    "colab": {
     "base_uri": "https://localhost:8080/"
    },
    "id": "HQo_tAMQjCdW",
    "outputId": "a85e58e8-1778-49b4-90de-eaaf41d739f6"
   },
   "outputs": [
    {
     "name": "stdout",
     "output_type": "stream",
     "text": [
      "Requirement already satisfied: mlxtend in c:\\users\\olgas\\anaconda3\\lib\\site-packages (0.22.0)\n",
      "Requirement already satisfied: numpy>=1.16.2 in c:\\users\\olgas\\anaconda3\\lib\\site-packages (from mlxtend) (1.23.5)\n",
      "Requirement already satisfied: scipy>=1.2.1 in c:\\users\\olgas\\anaconda3\\lib\\site-packages (from mlxtend) (1.10.0)\n",
      "Requirement already satisfied: joblib>=0.13.2 in c:\\users\\olgas\\anaconda3\\lib\\site-packages (from mlxtend) (1.1.1)\n",
      "Requirement already satisfied: setuptools in c:\\users\\olgas\\anaconda3\\lib\\site-packages (from mlxtend) (65.6.3)\n",
      "Requirement already satisfied: scikit-learn>=1.0.2 in c:\\users\\olgas\\anaconda3\\lib\\site-packages (from mlxtend) (1.2.1)\n",
      "Requirement already satisfied: matplotlib>=3.0.0 in c:\\users\\olgas\\anaconda3\\lib\\site-packages (from mlxtend) (3.7.0)\n",
      "Requirement already satisfied: pandas>=0.24.2 in c:\\users\\olgas\\anaconda3\\lib\\site-packages (from mlxtend) (1.5.3)\n",
      "Requirement already satisfied: fonttools>=4.22.0 in c:\\users\\olgas\\anaconda3\\lib\\site-packages (from matplotlib>=3.0.0->mlxtend) (4.25.0)\n",
      "Requirement already satisfied: pillow>=6.2.0 in c:\\users\\olgas\\anaconda3\\lib\\site-packages (from matplotlib>=3.0.0->mlxtend) (9.4.0)\n",
      "Requirement already satisfied: python-dateutil>=2.7 in c:\\users\\olgas\\anaconda3\\lib\\site-packages (from matplotlib>=3.0.0->mlxtend) (2.8.2)\n",
      "Requirement already satisfied: packaging>=20.0 in c:\\users\\olgas\\anaconda3\\lib\\site-packages (from matplotlib>=3.0.0->mlxtend) (22.0)\n",
      "Requirement already satisfied: kiwisolver>=1.0.1 in c:\\users\\olgas\\anaconda3\\lib\\site-packages (from matplotlib>=3.0.0->mlxtend) (1.4.4)\n",
      "Requirement already satisfied: contourpy>=1.0.1 in c:\\users\\olgas\\anaconda3\\lib\\site-packages (from matplotlib>=3.0.0->mlxtend) (1.0.5)\n",
      "Requirement already satisfied: cycler>=0.10 in c:\\users\\olgas\\anaconda3\\lib\\site-packages (from matplotlib>=3.0.0->mlxtend) (0.11.0)\n",
      "Requirement already satisfied: pyparsing>=2.3.1 in c:\\users\\olgas\\anaconda3\\lib\\site-packages (from matplotlib>=3.0.0->mlxtend) (3.0.9)\n",
      "Requirement already satisfied: pytz>=2020.1 in c:\\users\\olgas\\anaconda3\\lib\\site-packages (from pandas>=0.24.2->mlxtend) (2022.7)\n",
      "Requirement already satisfied: threadpoolctl>=2.0.0 in c:\\users\\olgas\\anaconda3\\lib\\site-packages (from scikit-learn>=1.0.2->mlxtend) (2.2.0)\n",
      "Requirement already satisfied: six>=1.5 in c:\\users\\olgas\\anaconda3\\lib\\site-packages (from python-dateutil>=2.7->matplotlib>=3.0.0->mlxtend) (1.16.0)\n"
     ]
    }
   ],
   "source": [
    "import pandas as pd\n",
    "import numpy as np\n",
    "!pip install mlxtend\n",
    "from mlxtend.frequent_patterns import apriori\n",
    "from mlxtend.preprocessing import TransactionEncoder\n",
    "from sklearn.preprocessing import LabelEncoder\n",
    "te = TransactionEncoder()\n",
    "le = LabelEncoder()"
   ]
  },
  {
   "cell_type": "code",
   "execution_count": 43,
   "metadata": {
    "colab": {
     "base_uri": "https://localhost:8080/"
    },
    "id": "W3WJl0-QkRA3",
    "outputId": "31fd7841-e550-4cc2-a246-ed40a769ba65",
    "scrolled": true
   },
   "outputs": [
    {
     "name": "stderr",
     "output_type": "stream",
     "text": [
      "C:\\Users\\olgas\\AppData\\Local\\Temp\\ipykernel_6064\\1136203362.py:2: FutureWarning: In a future version of pandas all arguments of read_csv except for the argument 'filepath_or_buffer' will be keyword-only.\n",
      "  df_aeronave = pd.read_csv(\"aeronave.csv\",\";\") #merge on codigo_ocorrencia2\n",
      "C:\\Users\\olgas\\AppData\\Local\\Temp\\ipykernel_6064\\1136203362.py:3: FutureWarning: In a future version of pandas all arguments of read_csv except for the argument 'filepath_or_buffer' will be keyword-only.\n",
      "  df_fator_contribuinte = pd.read_csv(\"fator_contribuinte.csv\",\";\") #merge on codigo_ocorrencia3\n",
      "C:\\Users\\olgas\\AppData\\Local\\Temp\\ipykernel_6064\\1136203362.py:4: FutureWarning: In a future version of pandas all arguments of read_csv except for the argument 'filepath_or_buffer' will be keyword-only.\n",
      "  df_ocorrencia = pd.read_csv(\"ocorrencia.csv\",\";\", on_bad_lines='skip')\n",
      "C:\\Users\\olgas\\AppData\\Local\\Temp\\ipykernel_6064\\1136203362.py:5: FutureWarning: In a future version of pandas all arguments of read_csv except for the argument 'filepath_or_buffer' will be keyword-only.\n",
      "  df_ocorrencia_tipo = pd.read_csv(\"ocorrencia_tipo.csv\",\";\", on_bad_lines='skip') # merge on codigo_ocorrencia1\n"
     ]
    }
   ],
   "source": [
    "#importar os arquivos que serão utilizados\n",
    "df_aeronave = pd.read_csv(\"aeronave.csv\",\";\") #merge on codigo_ocorrencia2\n",
    "df_fator_contribuinte = pd.read_csv(\"fator_contribuinte.csv\",\";\") #merge on codigo_ocorrencia3\t\n",
    "df_ocorrencia = pd.read_csv(\"ocorrencia.csv\",\";\", on_bad_lines='skip')\n",
    "df_ocorrencia_tipo = pd.read_csv(\"ocorrencia_tipo.csv\",\";\", on_bad_lines='skip') # merge on codigo_ocorrencia1\n",
    "df_ocorrencias = pd.merge(pd.merge(pd.merge(df_ocorrencia, df_ocorrencia_tipo, on = 'codigo_ocorrencia1'),df_aeronave, on = 'codigo_ocorrencia2'), df_fator_contribuinte, on = 'codigo_ocorrencia3')\n",
    "df_ocorrencias = df_ocorrencias.drop_duplicates()\n",
    "df_ocorrencias = df_ocorrencias[[\"fator_nome\", \"ocorrencia_tipo\", \"ocorrencia_classificacao\", \"aeronave_tipo_veiculo\",\"aeronave_nivel_dano\"]]\n",
    "df_ocorrencias = df_ocorrencias.replace({'###': pd.NA, '####': pd.NA, '###!': pd.NA, '***': pd.NA})\n",
    "df_ocorrencias = df_ocorrencias.dropna()"
   ]
  },
  {
   "cell_type": "code",
   "execution_count": 48,
   "metadata": {},
   "outputs": [],
   "source": [
    "# Transformação do dataframe em uma lista de transações\n",
    "transacoes = df_ocorrencias.values.astype(str).tolist()\n",
    "\n",
    "# Transformação da lista de transações em uma matriz binária\n",
    "te_ary = te.fit(transacoes).transform(transacoes)\n",
    "\n",
    "# Criação de um DataFrame pandas a partir da matriz binária\n",
    "df = pd.DataFrame(te_ary, columns=te.columns_)\n",
    "\n",
    "# Execução do algoritmo Apriori com um suporte mínimo de 0.4\n",
    "frequent_itemsets = apriori(df, min_support=0.4, use_colnames=True)\n",
    "\n",
    "# Mapeio dos resultados de volta para os nomes das colunas originais:\n",
    "frequent_itemsets['itemsets'] = frequent_itemsets['itemsets'].apply(lambda x: list(te.inverse_transform(x))[0])\n",
    "\n",
    "#Organização do dataframe em ordem decrescente\n",
    "frequent_itemsets = frequent_itemsets.sort_values(by='support', ascending=False)\n",
    "\n",
    "# ~Exportação dos conjuntos de itens frequentes\n",
    "frequent_itemsets.to_csv('Regras_associacao.csv', encoding='iso-8859-1',index=False)\n"
   ]
  },
  {
   "cell_type": "code",
   "execution_count": null,
   "metadata": {},
   "outputs": [],
   "source": []
  }
 ],
 "metadata": {
  "colab": {
   "provenance": []
  },
  "kernelspec": {
   "display_name": "Python 3 (ipykernel)",
   "language": "python",
   "name": "python3"
  },
  "language_info": {
   "codemirror_mode": {
    "name": "ipython",
    "version": 3
   },
   "file_extension": ".py",
   "mimetype": "text/x-python",
   "name": "python",
   "nbconvert_exporter": "python",
   "pygments_lexer": "ipython3",
   "version": "3.10.9"
  }
 },
 "nbformat": 4,
 "nbformat_minor": 1
}
